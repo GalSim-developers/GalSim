{
 "cells": [
  {
   "cell_type": "code",
   "execution_count": 18,
   "metadata": {
    "collapsed": false
   },
   "outputs": [
    {
     "name": "stdout",
     "output_type": "stream",
     "text": [
      "/Users/cslage\n",
      "/Users/cslage/Research/LSST/code/galsim-git/GalSim/examples/brighter-fatter/forward_model_varying_i\n",
      "/Users/cslage/Research/LSST/code/galsim-git/GalSim/examples/brighter-fatter/output/bf_2\n"
     ]
    }
   ],
   "source": [
    "%cd ~\n",
    "import pyfits,glob,time,scipy,sys\n",
    "import scipy.interpolate\n",
    "from scipy.special import erf\n",
    "from pylab import *\n",
    "from scipy.optimize import fmin_powell\n",
    "\n",
    "topdir='/Users/cslage/Research/LSST/code/'\n",
    "thedir=topdir+'galsim-git/GalSim/examples/brighter-fatter/output/bf_2/'\n",
    "forwarddir = topdir+'galsim-git/GalSim/examples/brighter-fatter/forward_model_varying_i'\n",
    "%cd $forwarddir\n",
    "import  forward\n",
    "%cd $thedir"
   ]
  },
  {
   "cell_type": "code",
   "execution_count": 19,
   "metadata": {
    "collapsed": false
   },
   "outputs": [
    {
     "data": {
      "text/plain": [
       "array([ '/Users/cslage/Research/LSST/code/galsim-git/GalSim/examples/brighter-fatter/output/bf_2/bf_1.fits',\n",
       "       '/Users/cslage/Research/LSST/code/galsim-git/GalSim/examples/brighter-fatter/output/bf_2/bf_2.fits',\n",
       "       '/Users/cslage/Research/LSST/code/galsim-git/GalSim/examples/brighter-fatter/output/bf_2/bf_3.fits',\n",
       "       '/Users/cslage/Research/LSST/code/galsim-git/GalSim/examples/brighter-fatter/output/bf_2/bf_4.fits',\n",
       "       '/Users/cslage/Research/LSST/code/galsim-git/GalSim/examples/brighter-fatter/output/bf_2/bf_5.fits'], \n",
       "      dtype='|S97')"
      ]
     },
     "execution_count": 19,
     "metadata": {},
     "output_type": "execute_result"
    }
   ],
   "source": [
    "zfilelist=sort(glob.glob(thedir+'bf_?.fits'))\n",
    "zfilelist"
   ]
  },
  {
   "cell_type": "markdown",
   "metadata": {
    "collapsed": false
   },
   "source": [
    "#### Using the sextractor catalogs produced above to make a map of the sextractor measurement named below"
   ]
  },
  {
   "cell_type": "code",
   "execution_count": 8,
   "metadata": {
    "collapsed": false
   },
   "outputs": [],
   "source": [
    "class Array2dSet:\n",
    "    def __init__(self,xmin,xmax,nx,ymin,ymax,ny,nstamps):\n",
    "        # This packages up a set of nstamps postage stamp images,\n",
    "        # each image of which is nx * ny pixels\n",
    "        self.nx=nx\n",
    "        self.ny=ny\n",
    "        self.nstamps=nstamps\n",
    "\n",
    "        self.xmin=xmin\n",
    "        self.ymin=ymin\n",
    "        \n",
    "        self.xmax=xmax\n",
    "        self.ymax=ymax\n",
    "        \n",
    "        self.dx=(xmax-xmin)/nx\n",
    "        self.dy=(ymax-ymin)/ny\n",
    "        \n",
    "        self.x=linspace(xmin+self.dx/2,xmax-self.dx/2,nx)\n",
    "        self.y=linspace(ymin+self.dy/2,ymax-self.dy/2,ny)\n",
    "\n",
    "        self.data=zeros([nx,ny,nstamps])\n",
    "        self.xoffset=zeros([nstamps])\n",
    "        self.yoffset=zeros([nstamps])\n",
    "        self.imax=zeros([nstamps])\n",
    "\n",
    "\n",
    "def BuildSpotList(fitsfilename, segmentnumber, numspots, nx, ny, minsize, maxsize):\n",
    "    stampxmin = -(int(nx/2)+0.5)\n",
    "    stampxmax = -stampxmin\n",
    "    stampymin = -(int(ny/2)+0.5)\n",
    "    stampymax = -stampymin\n",
    "    xcoomin = 0\n",
    "    xcoomax = 800\n",
    "    ycoomin = 0\n",
    "    ycoomax = 800\n",
    "    spotlist = Array2dSet(stampxmin,stampxmax,nx,stampymin,stampymax,ny,numspots)\n",
    "    img=pyfits.getdata(fitsfilename,0) \n",
    "    catname=fitsfilename[:-5]+'_SEX.fits.cat.reg' \n",
    "    catfile = open(catname,'r')\n",
    "    catlines = catfile.readlines()\n",
    "    catfile.close()\n",
    "    n=0\n",
    "    for line in catlines:\n",
    "        try:\n",
    "            size = float(line.split()[3].split('#')[0])\n",
    "            if size < minsize or size > maxsize:\n",
    "                continue\n",
    "            xcoord = float(line.split()[1])\n",
    "            ycoord = float(line.split()[2])\n",
    "            if xcoord < xcoomin or xcoord > xcoomax or ycoord < ycoomin or ycoord > ycoomax:\n",
    "                continue\n",
    "            xint = int(xcoord-0.5)\n",
    "            yint = int(ycoord-0.5)\n",
    "            xmin = xint - int(nx/2)\n",
    "            xmax = xint + int(nx/2) + 1\n",
    "            ymin = yint - int(ny/2)\n",
    "            ymax = yint + int(ny/2) + 1\n",
    "            stamp = img[ymin:ymax, xmin:xmax]\n",
    "           \n",
    "            xsum = 0.0\n",
    "            ysum = 0.0\n",
    "            datasum = 0.0\n",
    "             \n",
    "            for i in range(nx):\n",
    "                for j in range(ny):\n",
    "                    spotlist.data[i,j,n] = float(stamp[j,i])                    \n",
    "                    ysum += spotlist.y[j] * spotlist.data[i,j,n]\n",
    "                    xsum += spotlist.x[i] * spotlist.data[i,j,n]\n",
    "                    datasum += spotlist.data[i,j,n]\n",
    "            xoff = xsum / datasum\n",
    "            yoff = ysum / datasum\n",
    "            spotlist.xoffset[n] = xcoord - xint - 1.0\n",
    "            spotlist.yoffset[n] = ycoord - yint - 1.0     \n",
    "                    \n",
    "            n += 1\n",
    "            if n == numspots:\n",
    "                return spotlist\n",
    "        except:\n",
    "            continue\n",
    "    # Reaching this point means we found less spots than requested.\n",
    "    newspotlist = Array2dSet(stampxmin,stampxmax,nx,stampymin,stampymax,ny,n)\n",
    "    newspotlist.xoffset = spotlist.xoffset[0:n]\n",
    "    newspotlist.yoffset = spotlist.yoffset[0:n]\n",
    "    newspotlist.data = spotlist.data[:,:,0:n]\n",
    "    del spotlist\n",
    "    return newspotlist\n",
    "\n",
    "\n",
    "\n",
    "def FOM(params):\n",
    "    [sigmax, sigmay] = params\n",
    "    result = forward.forward(spotlist,sigmax,sigmay)\n",
    "    return result\n",
    "\n",
    "def PyFOM(params):\n",
    "    fom = 0.0\n",
    "    [Imax, sigmax, sigmay] = params\n",
    "    area=zeros([spotlist.nx,spotlist.ny])\n",
    "   \n",
    "    for spot in range(spotlist.nstamps):\n",
    "        for ii in range(spotlist.nx):\n",
    "            for jj in range(spotlist.ny):\n",
    "                xl = spotlist.x[ii] - spotlist.xoffset[spot] - 0.5\n",
    "                xh = xl + 1.0\n",
    "                yl = spotlist.y[jj] - spotlist.yoffset[spot] - 0.5\n",
    "                yh = yl + 1.0\n",
    "                #if spot == 78 and ii == 4 and jj == 4 or spot==0:\n",
    "                    #print \"ii = %d, jj = %d, img = %.4f\"%(ii,jj,spotlist.data[ii,jj,spot])\n",
    "                #print \"ii = %d, jj = %d,xl = %.2f, xh = %.2f, yl = %.2f, yh = %.2f\"%(ii,jj,xl,xh,yl,yh)\n",
    "                area[ii,jj] = Area(xl, xh, yl, yh, sigmax, sigmay, Imax)\n",
    "                fom += square(area[ii,jj]-spotlist.data[ii,jj,spot])\n",
    "    #print \"Imax = %.1f, sigmax = %.2f, sigmay = %.2f, fom = %.1f\"%(Imax, sigmax, sigmay, fom)\n",
    "    return fom\n",
    "\n",
    "def Area(xl, xh, yl, yh, sigmax, sigmay, Imax):\n",
    "    # Calculates how much of a 2D Gaussian falls within a rectangular box\n",
    "    ssigx = sqrt(2) * sigmax\n",
    "    ssigy = sqrt(2) * sigmay    \n",
    "    I = (erf(xh/ssigx)-erf(xl/ssigx))*(erf(yh/ssigy)-erf(yl/ssigy))\n",
    "    return Imax * I / 4.0"
   ]
  },
  {
   "cell_type": "code",
   "execution_count": 20,
   "metadata": {
    "collapsed": false
   },
   "outputs": [
    {
     "name": "stdout",
     "output_type": "stream",
     "text": [
      "/Users/cslage/Research/LSST/code/galsim-git/GalSim/examples/brighter-fatter/output/bf_2/bf_1.fits\n",
      "nstamps = 25\n",
      "Optimization terminated successfully.\n",
      "         Current function value: 4432040.584486\n",
      "         Iterations: 2\n",
      "         Function evaluations: 52\n",
      "/Users/cslage/Research/LSST/code/galsim-git/GalSim/examples/brighter-fatter/output/bf_2/bf_1.fits\n",
      "[ 1.00577779  1.00700669]\n",
      "/Users/cslage/Research/LSST/code/galsim-git/GalSim/examples/brighter-fatter/output/bf_2/bf_2.fits\n",
      "nstamps = 25\n",
      "Optimization terminated successfully.\n",
      "         Current function value: 12390546.648285\n",
      "         Iterations: 2\n",
      "         Function evaluations: 53\n",
      "/Users/cslage/Research/LSST/code/galsim-git/GalSim/examples/brighter-fatter/output/bf_2/bf_2.fits\n",
      "[ 1.0102837   1.01299661]\n",
      "/Users/cslage/Research/LSST/code/galsim-git/GalSim/examples/brighter-fatter/output/bf_2/bf_3.fits\n",
      "nstamps = 25\n",
      "Optimization terminated successfully.\n",
      "         Current function value: 32178518.500961\n",
      "         Iterations: 2\n",
      "         Function evaluations: 52\n",
      "/Users/cslage/Research/LSST/code/galsim-git/GalSim/examples/brighter-fatter/output/bf_2/bf_3.fits\n",
      "[ 1.01513897  1.01828589]\n",
      "/Users/cslage/Research/LSST/code/galsim-git/GalSim/examples/brighter-fatter/output/bf_2/bf_4.fits\n",
      "nstamps = 25\n",
      "Optimization terminated successfully.\n",
      "         Current function value: 70623216.361984\n",
      "         Iterations: 2\n",
      "         Function evaluations: 52\n",
      "/Users/cslage/Research/LSST/code/galsim-git/GalSim/examples/brighter-fatter/output/bf_2/bf_4.fits\n",
      "[ 1.01966955  1.02383537]\n",
      "/Users/cslage/Research/LSST/code/galsim-git/GalSim/examples/brighter-fatter/output/bf_2/bf_5.fits\n",
      "nstamps = 25\n",
      "Optimization terminated successfully.\n",
      "         Current function value: 168284526.126846\n",
      "         Iterations: 2\n",
      "         Function evaluations: 52\n",
      "/Users/cslage/Research/LSST/code/galsim-git/GalSim/examples/brighter-fatter/output/bf_2/bf_5.fits\n",
      "[ 1.02452641  1.02996149]\n"
     ]
    }
   ],
   "source": [
    "nx = 9\n",
    "ny = 9\n",
    "numspots = 25\n",
    "results = []\n",
    "spotlists=[]\n",
    "segmentnumber = 0\n",
    "\n",
    "for fitsfilename in zfilelist:\n",
    "    print fitsfilename\n",
    "    param0 = [1.0, 1.0]\n",
    "    \n",
    "    spotlist = BuildSpotList(fitsfilename, segmentnumber, numspots, nx, ny,0.2,2.0)\n",
    "    print \"nstamps = %d\"%spotlist.nstamps\n",
    "\n",
    "    spotlists.append(spotlist)\n",
    "    args = ()#(spotlist)\n",
    "    Result = fmin_powell(FOM, param0, args)\n",
    "    print fitsfilename\n",
    "    print Result\n",
    "    \n",
    "    results.append(Result)\n"
   ]
  },
  {
   "cell_type": "code",
   "execution_count": 21,
   "metadata": {
    "collapsed": false
   },
   "outputs": [],
   "source": [
    "from scipy import stats\n",
    "figure()\n",
    "title(\"Brighter-Fatter Effect on GalSim Generated Spots\", fontsize=12)\n",
    "imaxs = []\n",
    "sigmaxs = []\n",
    "sigmays = []\n",
    "gain = 1.0\n",
    "for i,result in enumerate(results):\n",
    "    imax = spotlists[i].imax.mean()\n",
    "    ADU_correction = Area(-0.5,0.5,-0.5,0.5,result[0],result[1],1.0)\n",
    "    imaxs.append(imax * ADU_correction * gain)\n",
    "    sigmaxs.append(result[0])\n",
    "    sigmays.append(result[1])\n",
    "    #if result[2] < 1.06:\n",
    "    #    print \"I = %d, Imax = %.1f, sigmax = %.3f, sigmay = %.3f\"%(i,result[0],result[1],result[2])\n",
    "scatter(imaxs, sigmaxs, color = 'green', lw = 2, label = 'Sigma-x')\n",
    "scatter(imaxs, sigmays, color = 'red', lw = 2, label = 'Sigma-y')\n",
    "\n",
    "slope, intercept, r_value, p_value, std_err = stats.linregress(imaxs,sigmaxs)\n",
    "\n",
    "xplot=linspace(-5000.0,150000.0,100)\n",
    "yplot = slope * xplot + intercept\n",
    "plot(xplot, yplot, color='blue', lw = 2, ls = '--')\n",
    "tslope = slope/intercept * 100.0 * 50000.0\n",
    "text(5000,1.07,\"X Slope = %.2f percent per 50,000 electrons\"%tslope, fontsize=12)\n",
    "\n",
    "slope, intercept, r_value, p_value, std_err = stats.linregress(imaxs,sigmays)\n",
    "\n",
    "xplot=linspace(-5000.0,150000.0,100)\n",
    "yplot = slope * xplot + intercept\n",
    "plot(xplot, yplot, color='black', lw = 2, ls = '--')\n",
    "tslope = slope/intercept * 100.0 * 50000.0\n",
    "text(5000,1.06,\"Y Slope = %.2f percent per 50,000 electrons\"%tslope, fontsize=12)\n",
    "\n",
    "ylim(0.98,1.08)\n",
    "xlim(0,160000)\n",
    "xlabel('Central Peak(electrons)')\n",
    "ylabel('Sigma (Pixels)')\n",
    "legend(loc= 'lower right')\n",
    "savefig(\"Forward_Model_Spots.png\")"
   ]
  },
  {
   "cell_type": "code",
   "execution_count": 22,
   "metadata": {
    "collapsed": false
   },
   "outputs": [
    {
     "name": "stdout",
     "output_type": "stream",
     "text": [
      "25\n"
     ]
    }
   ],
   "source": [
    "figure()\n",
    "testn = 1\n",
    "spot = 7\n",
    "spotlist = spotlists[testn]\n",
    "print spotlist.nstamps\n",
    "Result = results[testn]\n",
    "Imax = spotlist.imax[spot]\n",
    "sigmax = Result[0]\n",
    "sigmay = Result[1]\n",
    "seqno = 0#int(zfilelist[testn].split(\"_\")[3])\n",
    "suptitle=(\"Sequence # %d, Spot # %d\"%(seqno,spot))\n",
    "area=zeros([nx,ny])\n",
    "for ii in range(nx):\n",
    "    for jj in range(ny):\n",
    "        xl = ii - int(nx/2) - spotlist.xoffset[spot] - 0.5\n",
    "        xh = xl + 1.0\n",
    "        yl = jj - int(ny/2) - spotlist.yoffset[spot] - 0.5\n",
    "        yh = yl + 1.0\n",
    "        area[ii,jj] = Area(xl, xh, yl, yh, sigmax, sigmay, Imax)\n",
    "\n",
    "subplots_adjust(wspace = 1.0)\n",
    "subplot(1,3,1)\n",
    "imshow(spotlist.data[:,:,spot],interpolation=\"None\")\n",
    "subplot(1,3,2)\n",
    "plot(spotlist.data[int(nx/2),:,spot], lw = 2, label=\"Data\")\n",
    "plot(area[int(nx/2),:], lw = 2, label=\"Model\")\n",
    "xlabel(\"X (Pixels)\")\n",
    "subplot(1,3,3)\n",
    "plot(spotlist.data[:,int(ny/2),spot], lw = 2, label=\"Data\")\n",
    "plot(area[:,int(ny/2)], lw = 2, label=\"Model\")\n",
    "xlabel(\"Y (Pixels)\")\n",
    "legend(loc = (-4.0,0.8))\n",
    "savefig(\"Typical_Fit.png\")\n"
   ]
  },
  {
   "cell_type": "code",
   "execution_count": null,
   "metadata": {
    "collapsed": true
   },
   "outputs": [],
   "source": []
  }
 ],
 "metadata": {
  "kernelspec": {
   "display_name": "Python 2",
   "language": "python",
   "name": "python2"
  },
  "language_info": {
   "codemirror_mode": {
    "name": "ipython",
    "version": 2
   },
   "file_extension": ".py",
   "mimetype": "text/x-python",
   "name": "python",
   "nbconvert_exporter": "python",
   "pygments_lexer": "ipython2",
   "version": "2.7.11"
  }
 },
 "nbformat": 4,
 "nbformat_minor": 0
}
